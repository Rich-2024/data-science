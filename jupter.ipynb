{
 "cells": [
  {
   "cell_type": "code",
   "execution_count": null,
   "id": "1e302ebf",
   "metadata": {},
   "outputs": [],
   "source": []
  },
  {
   "cell_type": "code",
   "execution_count": 5,
   "id": "1e6bee78",
   "metadata": {},
   "outputs": [
    {
     "name": "stdout",
     "output_type": "stream",
     "text": [
      "\n",
      "    Hello, I love this World more than you.\n",
      "\n"
     ]
    }
   ],
   "source": [
    "# print(\"Hello,i love this  World than you\")\n",
    "file=open(\"richie.txt\",\"r\")\n",
    "content=file.read()\n",
    "print(content)\n",
    "file.close()"
   ]
  },
  {
   "cell_type": "code",
   "execution_count": null,
   "id": "3d471c63",
   "metadata": {},
   "outputs": [],
   "source": []
  },
  {
   "cell_type": "code",
   "execution_count": 11,
   "id": "735b7a7a",
   "metadata": {},
   "outputs": [
    {
     "name": "stdout",
     "output_type": "stream",
     "text": [
      "File content:\n",
      "Hello guys, this data science course is fun\n",
      "This is appending to the file.\n",
      "\n"
     ]
    }
   ],
   "source": [
    "#  Write to the file (this clears existing content)\n",
    "with open(\"ogwal.txt\", \"w\") as file:\n",
    "    file.write(\"Hello guys, this data science course is fun\\n\")\n",
    "\n",
    "#  Append to the same file (this adds content without erasing)\n",
    "with open(\"ogwal.txt\", \"a\") as file:\n",
    "    file.write(\"This is appending to the file.\\n\")\n",
    "\n",
    "with open(\"ogwal.txt\", \"r\") as file:\n",
    "    content = file.read()\n",
    "\n",
    "print(\"File content:\\n\" + content)\n"
   ]
  },
  {
   "cell_type": "code",
   "execution_count": null,
   "id": "a88d1abe",
   "metadata": {},
   "outputs": [],
   "source": [
    "# reading csv\n",
    "import pandas as pd\n",
    "import numpy as np\n"
   ]
  },
  {
   "cell_type": "code",
   "execution_count": 3,
   "id": "e8bc2794",
   "metadata": {},
   "outputs": [
    {
     "name": "stdout",
     "output_type": "stream",
     "text": [
      "   Duration  Pulse  Maxpulse  Calories\n",
      "0        60    110       130     409.1\n",
      "1        60    117       145     479.0\n",
      "2        60    103       135     340.0\n",
      "3        45    109       175     282.4\n",
      "4        45    117       148     406.0\n"
     ]
    }
   ],
   "source": [
    "# reading csv\n",
    "import numpy as np\n",
    "import pandas as pd\n",
    "df=pd.read_csv('data.csv')\n",
    "print(df.head())\n"
   ]
  },
  {
   "cell_type": "code",
   "execution_count": null,
   "id": "02fdd950",
   "metadata": {},
   "outputs": [],
   "source": []
  }
 ],
 "metadata": {
  "kernelspec": {
   "display_name": "base",
   "language": "python",
   "name": "python3"
  },
  "language_info": {
   "codemirror_mode": {
    "name": "ipython",
    "version": 3
   },
   "file_extension": ".py",
   "mimetype": "text/x-python",
   "name": "python",
   "nbconvert_exporter": "python",
   "pygments_lexer": "ipython3",
   "version": "3.12.7"
  }
 },
 "nbformat": 4,
 "nbformat_minor": 5
}
