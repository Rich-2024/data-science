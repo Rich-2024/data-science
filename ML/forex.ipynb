{
 "cells": [
  {
   "cell_type": "code",
   "execution_count": 2,
   "id": "64d437ff",
   "metadata": {},
   "outputs": [
    {
     "name": "stdout",
     "output_type": "stream",
     "text": [
      "         Date     Open     High      Low    Close Volume  Predicted_Close  \\\n",
      "0  2024-01-01  1.18727  1.92461  0.85312  1.18154   2201          1.22984   \n",
      "1  2024-01-02  1.47536  1.82881  0.54067  1.32296  error          1.03797   \n",
      "2  2024-01-03  1.36600  1.78415  0.54242  1.28539   4420          1.03888   \n",
      "3  2024-01-04  1.29933  1.54684  0.99332  1.17805   4079          1.00117   \n",
      "4  2024-01-05  1.07801  1.68386  0.68714      NaN   1832          1.48385   \n",
      "\n",
      "  Currency_Pair Signal  Confidence  \n",
      "0       EUR/USD   Hold        0.90  \n",
      "1       EUR/USD   Sell         NaN  \n",
      "2       EUR/USD   Sell         NaN  \n",
      "3       EUR/USD   Sell        0.64  \n",
      "4       EUR/USD   Sell        0.68  \n",
      "      Date   Open   High    Low  Close  Volume  Predicted_Close  \\\n",
      "0    False  False  False  False  False   False            False   \n",
      "1    False  False  False  False  False   False            False   \n",
      "2    False  False  False  False  False   False            False   \n",
      "3    False  False  False  False  False   False            False   \n",
      "4    False  False  False  False   True   False            False   \n",
      "..     ...    ...    ...    ...    ...     ...              ...   \n",
      "224  False  False  False  False  False   False            False   \n",
      "225  False  False  False  False   True   False            False   \n",
      "226  False  False  False   True  False   False            False   \n",
      "227  False  False  False  False  False   False            False   \n",
      "228  False  False  False  False   True   False            False   \n",
      "\n",
      "     Currency_Pair  Signal  Confidence  \n",
      "0            False   False       False  \n",
      "1            False   False        True  \n",
      "2            False   False        True  \n",
      "3            False   False       False  \n",
      "4            False   False       False  \n",
      "..             ...     ...         ...  \n",
      "224          False   False       False  \n",
      "225          False   False       False  \n",
      "226          False   False       False  \n",
      "227          False   False       False  \n",
      "228          False   False       False  \n",
      "\n",
      "[229 rows x 10 columns]\n"
     ]
    }
   ],
   "source": [
    "import pandas as pd\n",
    "import numpy as np\n",
    "import matplotlib.pyplot as plt\n",
    "import seaborn as sns\n",
    "from datetime import datetime\n",
    "df = pd.read_csv('forex_predictions_data.csv')\n",
    "print(df.head())\n",
    "print(df.isnull())\n"
   ]
  },
  {
   "cell_type": "code",
   "execution_count": null,
   "id": "3c7dcfab",
   "metadata": {},
   "outputs": [],
   "source": []
  }
 ],
 "metadata": {
  "kernelspec": {
   "display_name": "base",
   "language": "python",
   "name": "python3"
  },
  "language_info": {
   "codemirror_mode": {
    "name": "ipython",
    "version": 3
   },
   "file_extension": ".py",
   "mimetype": "text/x-python",
   "name": "python",
   "nbconvert_exporter": "python",
   "pygments_lexer": "ipython3",
   "version": "3.12.7"
  }
 },
 "nbformat": 4,
 "nbformat_minor": 5
}
