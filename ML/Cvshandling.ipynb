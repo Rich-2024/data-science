{
 "cells": [
  {
   "cell_type": "code",
   "execution_count": null,
   "id": "ed1e42bd",
   "metadata": {},
   "outputs": [],
   "source": [
    "import pandas as pd\n",
    "import numpy as np\n",
    "\n",
    "\n",
    "df = pd.read_csv('Mine.csv')\n",
    "\n",
    "# Clean 'Date' column\n",
    "df['Date'] = df['Date'].astype(str).str.replace(\"'\", \"\", regex=False)\n",
    "df['Date'] = pd.to_datetime(df['Date'], errors='coerce')\n",
    "\n",
    "\n",
    "df['Calories'] = df['Calories'].fillna(df['Calories'].mean())\n",
    "df['Maxpulse'] = df['Maxpulse'].fillna(df['Maxpulse'].median())\n",
    "df['Pulse'] = df['Pulse'].fillna(df['Pulse'].median())\n",
    "df['Date'] = df['Date'].ffill() \n",
    "\n",
    "df = df.drop_duplicates()\n",
    "\n",
    "#  Filter invalid wher duration < or 180\n",
    "# df['Duration'] = df['Duration'].apply(lambda x: 180 if x > 180 else x)\n",
    "\n",
    "# \n",
    "df.to_csv('cleaned_Mine.csv', index=False)\n",
    "\n",
    "print(\"Dataset cleaned successfully and saved as 'cleaned_Mine.csv'.\")\n",
    "\n",
    "# Read cleaned dataset\n",
    "clean_df = pd.read_csv('cleaned_Mine.csv')\n",
    "\n",
    "print(\"\\n Preview of cleaned data:\")\n",
    "print(clean_df.head())\n",
    "\n",
    "print(\"\\n Summary of missing values:\")\n",
    "print(clean_df.isna().sum())\n",
    "\n",
    "print(\"\\n Shape of the dataset:\")\n",
    "print(clean_df.shape)\n"
   ]
  },
  {
   "cell_type": "code",
   "execution_count": null,
   "id": "5ef75a14",
   "metadata": {},
   "outputs": [],
   "source": [
    "import pandas as pd\n",
    "import numpy as np\n",
    "\n",
    "df = pd.read_csv('Sales.csv')  \n",
    "\n",
    "df['Order Date'] = df['Order Date'].astype(str).str.replace(\"'\", \"\", regex=False)\n",
    "df['Order Date'] = pd.to_datetime(df['Order Date'], errors='coerce')\n",
    "\n",
    "# Fill missing Customer Name \n",
    "df['Customer Name'] = df['Customer Name'].fillna('Unknown')\n",
    "\n",
    "# Fill missing Quantity and Unit Price with median or drop rows (here we fill with median)\n",
    "df['Quantity'] = df['Quantity'].fillna(df['Quantity'].median())\n",
    "df['Unit Price'] = df['Unit Price'].fillna(df['Unit Price'].median())\n",
    "\n",
    "# Drop or fix negative Quantity and Total Revenue (e.g., remove or set to absolute)\n",
    "df = df[df['Quantity'] >= 0]  # drop negative quantities\n",
    "df = df[df['Total Revenue'] >= 0]  # drop negative revenues\n",
    "\n",
    "# Remove duplicates based on 'Order ID'\n",
    "df = df.drop_duplicates(subset=['Order ID'])\n",
    "\n",
    "# recalculate Total Revenue\n",
    "df['Total Revenue'] = df['Quantity'] * df['Unit Price']\n",
    "\n",
    "\n",
    "df.to_csv('cleaned_sales.csv', index=False)\n",
    "\n",
    "print(\"Cleaning complete. Saved as 'cleaned_sales.csv'.\")\n",
    "print(df.head())\n"
   ]
  },
  {
   "cell_type": "code",
   "execution_count": null,
   "id": "341f4145",
   "metadata": {},
   "outputs": [],
   "source": []
  }
 ],
 "metadata": {
  "kernelspec": {
   "display_name": "base",
   "language": "python",
   "name": "python3"
  },
  "language_info": {
   "codemirror_mode": {
    "name": "ipython",
    "version": 3
   },
   "file_extension": ".py",
   "mimetype": "text/x-python",
   "name": "python",
   "nbconvert_exporter": "python",
   "pygments_lexer": "ipython3",
   "version": "3.12.7"
  }
 },
 "nbformat": 4,
 "nbformat_minor": 5
}
